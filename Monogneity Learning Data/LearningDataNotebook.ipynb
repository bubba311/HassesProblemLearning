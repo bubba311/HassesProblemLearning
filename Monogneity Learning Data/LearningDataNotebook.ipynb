{
 "cells": [
  {
   "cell_type": "code",
   "execution_count": 1,
   "metadata": {},
   "outputs": [],
   "source": [
    "import time"
   ]
  },
  {
   "cell_type": "code",
   "execution_count": 4,
   "metadata": {},
   "outputs": [
    {
     "name": "stdout",
     "output_type": "stream",
     "text": [
      "00% completed\n",
      "10% completed after 21.52 minutes\n",
      "25% completed after 57.2 minutes\n",
      "50% completed after 106.17 minutes\n",
      "75% completed after 155.04 minutes\n",
      "90% completed after 184.41 minutes\n",
      "100% completed after 211.2 minutes\n",
      "1719002 irreducible out of 1771561 with 60.51% being monogenic\n"
     ]
    }
   ],
   "source": [
    "# Monogenic field training data for cubic polynomials\n",
    "\n",
    "R.<x>=QQ[];R # Make ring\n",
    "half = 60 # Half of cube length, Must be an even number\n",
    "total_tested = (2*half+1)^3 # Total 3 tuples tested\n",
    "outputfile = open(str(half)+'Range'+'MonogenicCubicData.txt', \"w\") # Create output file\n",
    "MonogenicBasis = '[1, y, y^2]' # Power integral basis\n",
    "NumberIrreducible = 0\n",
    "NumberMonogenic = 0\n",
    "\n",
    "\n",
    "print '00'+'% completed'\n",
    "start = time.time() # To keep track of how long the algorithm runs\n",
    "\n",
    "# Test \\ZZ_3 centered at origin\n",
    "for a in range(-half,half+1):\n",
    "    for b in range(-half,half+1):\n",
    "        for c in range(-half,half+1):\n",
    "            \n",
    "            # Progress print statements\n",
    "            if a == b == c == 0:\n",
    "                print '50'+'% completed'+' after '+str(round((time.time()-start)/60, 2))+' minutes'\n",
    "            elif a == b ==  c == -half/2:\n",
    "                print '25'+'% completed'+' after '+str(round((time.time()-start)/60, 2))+' minutes'\n",
    "            elif a == b ==  c == half/2:\n",
    "                print '75'+'% completed'+' after '+str(round((time.time()-start)/60, 2))+' minutes'\n",
    "            elif a == -4*half/5 and b == c == 0:\n",
    "                print '10'+'% completed'+' after '+str(round((time.time()-start)/60, 2))+' minutes'\n",
    "            elif a == 4*half/5 and b == c == 0:\n",
    "                print '90'+'% completed'+' after '+str(round((time.time()-start)/60, 2))+' minutes'\n",
    "                \n",
    "            # Computation\n",
    "            try:\n",
    "                f=x^3+a*x^2+b*x+c; f # Polynomial tested \n",
    "                if f.is_irreducible(): # Only test irreducible polynomials\n",
    "                    NumberIrreducible += 1\n",
    "                    K.<y>=NumberField(f,'b') # Make field\n",
    "                    K.optimized_representation()\n",
    "                    ThisBasis=str(K.integral_basis()) # Find basis\n",
    "                    if ThisBasis == MonogenicBasis: # See if it is a power integral basis\n",
    "                        outputfile.write(str(a)+\" \"+str(b)+\" \"+str(c)+\" \"+str(1)+\"\\n\")\n",
    "                        NumberMonogenic += 1\n",
    "                    else:\n",
    "                        outputfile.write(str(a)+\" \"+str(b)+\" \"+str(c)+\" \"+str(0)+\"\\n\")\n",
    "            except:\n",
    "                pass\n",
    "\n",
    "print '100'+'% completed'+' after '+str(round((time.time()-start)/60, 2))+' minutes'\n",
    "print str(NumberIrreducible)+' irreducible out of '+str(total_tested)+' with '+str(round(100*NumberMonogenic/total_tested, 2))+'% being monogenic'\n",
    "outputfile.write(\"Total:\"+str(total_tested)+\"\\n\")\n",
    "outputfile.write(\"Irreducibe:\"+str(NumberIrreducible)+\"\\n\")\n",
    "outputfile.write(\"Monogenic:\"+str(NumberMonogenic))\n",
    "outputfile.close()"
   ]
  },
  {
   "cell_type": "code",
   "execution_count": null,
   "metadata": {},
   "outputs": [],
   "source": []
  }
 ],
 "metadata": {
  "kernelspec": {
   "display_name": "SageMath 8.7",
   "language": "",
   "name": "sagemath"
  },
  "language_info": {
   "codemirror_mode": {
    "name": "ipython",
    "version": 2
   },
   "file_extension": ".py",
   "mimetype": "text/x-python",
   "name": "python",
   "nbconvert_exporter": "python",
   "pygments_lexer": "ipython2",
   "version": "2.7.15"
  }
 },
 "nbformat": 4,
 "nbformat_minor": 2
}
