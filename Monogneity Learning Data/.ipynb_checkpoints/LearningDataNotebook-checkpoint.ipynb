{
 "cells": [
  {
   "cell_type": "code",
   "execution_count": 22,
   "metadata": {},
   "outputs": [
    {
     "name": "stdout",
     "output_type": "stream",
     "text": [
      "1002\n"
     ]
    }
   ],
   "source": [
    "# Monogenic field training data for cubic polynomials\n",
    "\n",
    "R.<x>=QQ[];R # Make ring\n",
    "half = 5 # Half of cube length\n",
    "outputfile = open(str(half)+'Range'+'MonogenicCubicData.txt', \"w\") # Create output file\n",
    "MonogenicBasis = '[1, y, y^2]'\n",
    "NumberIrreducible = 0\n",
    "\n",
    "outputfile.write(\"Tested:\"+str(half^3))\n",
    "\n",
    "# Test cube of 3-tuples in \\ZZ centered at origin\n",
    "for a in range(-half,half+1):\n",
    "    for b in range(-half,half+1):\n",
    "        for c in range(-half,half+1):\n",
    "            try:\n",
    "                f=x^3+a*x^2+b*x+c; f # Polynomial tested \n",
    "                if f.is_irreducible(): # Only test irreducible polynomials\n",
    "                    NumberIrreducible += 1\n",
    "                    K.<y>=NumberField(f,'b')\n",
    "                    K.optimized_representation()\n",
    "                    ThisBasis=str(K.integral_basis())\n",
    "                    if ThisBasis == MonogenicBasis:\n",
    "                        outputfile.write(str(a)+\" \"+str(b)+\" \"+str(c)+\" \"+str(1)+\"\\n\")\n",
    "                    else:\n",
    "                        outputfile.write(str(a)+\" \"+str(b)+\" \"+str(c)+\" \"+str(0)+\"\\n\")\n",
    "            except:\n",
    "                pass\n",
    "print NumberIrreducible\n",
    "outputfile.write(\"Irreducibe:\"+str(NumberIrreducible))\n",
    "outputfile.close()"
   ]
  },
  {
   "cell_type": "code",
   "execution_count": null,
   "metadata": {},
   "outputs": [],
   "source": []
  }
 ],
 "metadata": {
  "kernelspec": {
   "display_name": "SageMath 8.7",
   "language": "",
   "name": "sagemath"
  },
  "language_info": {
   "codemirror_mode": {
    "name": "ipython",
    "version": 2
   },
   "file_extension": ".py",
   "mimetype": "text/x-python",
   "name": "python",
   "nbconvert_exporter": "python",
   "pygments_lexer": "ipython2",
   "version": "2.7.15"
  }
 },
 "nbformat": 4,
 "nbformat_minor": 2
}
