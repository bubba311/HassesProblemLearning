{
 "cells": [
  {
   "cell_type": "code",
   "execution_count": 1,
   "metadata": {},
   "outputs": [],
   "source": [
    "from sklearn import svm\n",
    "import numpy as np\n",
    "import time"
   ]
  },
  {
   "cell_type": "code",
   "execution_count": 2,
   "metadata": {},
   "outputs": [],
   "source": [
    "# Load data\n",
    "def load_data(filename,totals=False):\n",
    "    data, heuristics = ([] for i in range(2))\n",
    "    with open(\"Monogneity Learning Data/\"+filename+\".txt\") as f:\n",
    "        for line in f:\n",
    "            try:\n",
    "                data.append([int(x) for x in line.split()]) # convert to ints\n",
    "            except:\n",
    "                heuristics.append(line) # append as strings\n",
    "    if totals: # if we want an array of totals in the data\n",
    "        return np.array(data), np.array(heuristics)\n",
    "    else:\n",
    "        return np.array(data)"
   ]
  },
  {
   "cell_type": "code",
   "execution_count": 3,
   "metadata": {},
   "outputs": [],
   "source": [
    "# Test model on data\n",
    "def test_data(machine, num_of_tests):\n",
    "    # globals\n",
    "    amcorrect = 0\n",
    "    start = time.time()\n",
    "\n",
    "    # check percent of correct predictions \n",
    "    for x in range(num_of_tests):\n",
    "        if machine.predict([monodata[x, :3]]) == monodata[x, 3]:\n",
    "            amcorrect +=1\n",
    "\n",
    "    print(\"Predicted \"+str(100*amcorrect/num_of_tests)+\"% correct.\")\n",
    "    print(str(round(time.time()-start, 1))+\" second run time.\")"
   ]
  },
  {
   "cell_type": "code",
   "execution_count": 43,
   "metadata": {
    "scrolled": true
   },
   "outputs": [
    {
     "name": "stdout",
     "output_type": "stream",
     "text": [
      "1719002\n"
     ]
    }
   ],
   "source": [
    "monodata, heur = load_data(\"60RangeMonogenicCubicData\", totals=True)\n",
    "print(len(data))"
   ]
  },
  {
   "cell_type": "code",
   "execution_count": 32,
   "metadata": {},
   "outputs": [
    {
     "name": "stderr",
     "output_type": "stream",
     "text": [
      "/home/ryanibarra/anaconda3/lib/python3.7/site-packages/sklearn/svm/base.py:193: FutureWarning: The default value of gamma will change from 'auto' to 'scale' in version 0.22 to account better for unscaled features. Set gamma explicitly to 'auto' or 'scale' to avoid this warning.\n",
      "  \"avoid this warning.\", FutureWarning)\n"
     ]
    },
    {
     "name": "stdout",
     "output_type": "stream",
     "text": [
      "Trained in 517.2 seconds\n"
     ]
    }
   ],
   "source": [
    "clf = svm.SVC()\n",
    "start = time.time()\n",
    "clf.fit(data[:100000,:3],data[:100000,3])\n",
    "print(\"Trained in \"+str(round(time.time()-start, 1))+\" seconds\")"
   ]
  },
  {
   "cell_type": "code",
   "execution_count": 56,
   "metadata": {},
   "outputs": [
    {
     "name": "stderr",
     "output_type": "stream",
     "text": [
      "/home/ryanibarra/anaconda3/lib/python3.7/site-packages/sklearn/svm/base.py:193: FutureWarning: The default value of gamma will change from 'auto' to 'scale' in version 0.22 to account better for unscaled features. Set gamma explicitly to 'auto' or 'scale' to avoid this warning.\n",
      "  \"avoid this warning.\", FutureWarning)\n"
     ]
    },
    {
     "name": "stdout",
     "output_type": "stream",
     "text": [
      "Trained in 579.3 seconds\n"
     ]
    }
   ],
   "source": [
    "clf2 = svm.SVC(decision_function_shape='ovo')\n",
    "start = time.time()\n",
    "clf2.fit(monodata[:100000,:3],monodata[:100000,3])\n",
    "print(\"Trained in \"+str(round(time.time()-start, 1))+\" seconds\")"
   ]
  },
  {
   "cell_type": "code",
   "execution_count": 57,
   "metadata": {},
   "outputs": [
    {
     "name": "stdout",
     "output_type": "stream",
     "text": [
      "Predicted 69.325% correct in 200.0 seconds\n"
     ]
    }
   ],
   "source": [
    "# globals\n",
    "total = 100000\n",
    "amcorrect = 0\n",
    "start = time.time()\n",
    "\n",
    "# check percent of correct predictions \n",
    "for x in range(total):\n",
    "    if clf2.predict([monodata[x, :3]]) == monodata[x, 3]:\n",
    "        amcorrect +=1\n",
    "\n",
    "print(\"Predicted \"+str(100*amcorrect/total)+\"% correct in \"+str(round(time.time()-start, 1))+\" seconds\")"
   ]
  },
  {
   "cell_type": "code",
   "execution_count": 73,
   "metadata": {
    "scrolled": true
   },
   "outputs": [
    {
     "name": "stdout",
     "output_type": "stream",
     "text": [
      "Trained in 0.0 seconds\n"
     ]
    },
    {
     "name": "stderr",
     "output_type": "stream",
     "text": [
      "/home/ryanibarra/anaconda3/lib/python3.7/site-packages/sklearn/svm/base.py:193: FutureWarning: The default value of gamma will change from 'auto' to 'scale' in version 0.22 to account better for unscaled features. Set gamma explicitly to 'auto' or 'scale' to avoid this warning.\n",
      "  \"avoid this warning.\", FutureWarning)\n",
      "/home/ryanibarra/anaconda3/lib/python3.7/site-packages/sklearn/svm/base.py:193: FutureWarning: The default value of gamma will change from 'auto' to 'scale' in version 0.22 to account better for unscaled features. Set gamma explicitly to 'auto' or 'scale' to avoid this warning.\n",
      "  \"avoid this warning.\", FutureWarning)\n",
      "/home/ryanibarra/anaconda3/lib/python3.7/site-packages/sklearn/svm/base.py:193: FutureWarning: The default value of gamma will change from 'auto' to 'scale' in version 0.22 to account better for unscaled features. Set gamma explicitly to 'auto' or 'scale' to avoid this warning.\n",
      "  \"avoid this warning.\", FutureWarning)\n"
     ]
    }
   ],
   "source": [
    "clf3 = svm.SVC() \n",
    "clf4 = svm.SVC()\n",
    "clf5 = svm.SVC()\n",
    "start = time.time()\n",
    "clf3.fit(monodata[:10,:3],monodata[:10,3])\n",
    "clf4.fit(monodata[:100,:3],monodata[:100,3])\n",
    "clf5.fit(monodata[:1000,:3],monodata[:1000,3])\n",
    "print(\"Trained in \"+str(round(time.time()-start, 1))+\" seconds\")"
   ]
  },
  {
   "cell_type": "code",
   "execution_count": 74,
   "metadata": {},
   "outputs": [
    {
     "name": "stdout",
     "output_type": "stream",
     "text": [
      "Predicted 61.416% correct.\n",
      "5.5 second run time.\n",
      "Predicted 61.483% correct.\n",
      "5.7 second run time.\n",
      "Predicted 61.536% correct.\n",
      "7.4 second run time.\n"
     ]
    }
   ],
   "source": [
    "test_data(clf3, 100000)\n",
    "test_data(clf4, 100000)\n",
    "test_data(clf5, 100000)"
   ]
  },
  {
   "cell_type": "code",
   "execution_count": null,
   "metadata": {},
   "outputs": [
    {
     "name": "stderr",
     "output_type": "stream",
     "text": [
      "/home/ryanibarra/anaconda3/lib/python3.7/site-packages/sklearn/svm/base.py:193: FutureWarning: The default value of gamma will change from 'auto' to 'scale' in version 0.22 to account better for unscaled features. Set gamma explicitly to 'auto' or 'scale' to avoid this warning.\n",
      "  \"avoid this warning.\", FutureWarning)\n"
     ]
    }
   ],
   "source": [
    "clf = svm.SVC()\n",
    "start = time.time()\n",
    "clf.fit(data[:1000000,:3],data[:1000000,3])\n",
    "print(\"Trained in \"+str(round(time.time()-start, 1))+\" seconds\")"
   ]
  },
  {
   "cell_type": "code",
   "execution_count": null,
   "metadata": {},
   "outputs": [],
   "source": []
  }
 ],
 "metadata": {
  "kernelspec": {
   "display_name": "Python 3",
   "language": "python",
   "name": "python3"
  },
  "language_info": {
   "codemirror_mode": {
    "name": "ipython",
    "version": 3
   },
   "file_extension": ".py",
   "mimetype": "text/x-python",
   "name": "python",
   "nbconvert_exporter": "python",
   "pygments_lexer": "ipython3",
   "version": "3.7.4"
  }
 },
 "nbformat": 4,
 "nbformat_minor": 2
}
